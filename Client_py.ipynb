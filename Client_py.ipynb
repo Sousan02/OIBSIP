{
 "cells": [
  {
   "cell_type": "code",
   "execution_count": 1,
   "id": "02415d17",
   "metadata": {},
   "outputs": [
    {
     "name": "stdout",
     "output_type": "stream",
     "text": [
      "Your message: hii\n",
      "Server response: hello\n",
      "Your message: What's the weather today?\n",
      "Server response: I'm a simple server,I don't know the weather.\n",
      "Your message: bye\n"
     ]
    }
   ],
   "source": [
    "import socket\n",
    "\n",
    "def start_client():\n",
    "    client = socket.socket(socket.AF_INET, socket.SOCK_STREAM)\n",
    "    client.connect(('127.0.0.1', 5555))\n",
    "\n",
    "    while True:\n",
    "        message = input(\"Your message: \")\n",
    "        client.send(message.encode('utf-8'))\n",
    "        if message.lower() == 'bye':\n",
    "            break\n",
    "        response = client.recv(1024).decode('utf-8')\n",
    "        print(f\"Server response: {response}\")\n",
    "\n",
    "    client.close()\n",
    "\n",
    "if __name__ == \"__main__\":\n",
    "    start_client()"
   ]
  }
 ],
 "metadata": {
  "kernelspec": {
   "display_name": "Python 3 (ipykernel)",
   "language": "python",
   "name": "python3"
  },
  "language_info": {
   "codemirror_mode": {
    "name": "ipython",
    "version": 3
   },
   "file_extension": ".py",
   "mimetype": "text/x-python",
   "name": "python",
   "nbconvert_exporter": "python",
   "pygments_lexer": "ipython3",
   "version": "3.11.4"
  }
 },
 "nbformat": 4,
 "nbformat_minor": 5
}
