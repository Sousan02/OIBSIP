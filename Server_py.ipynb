{
 "cells": [
  {
   "cell_type": "code",
   "execution_count": null,
   "id": "fd17831b",
   "metadata": {},
   "outputs": [
    {
     "name": "stdout",
     "output_type": "stream",
     "text": [
      "Server listening on port 5555...\n",
      "Accepted connection from ('127.0.0.1', 50278)\n",
      "Received from ('127.0.0.1', 50278): hii\n",
      "Server response: hello\n",
      "Received from ('127.0.0.1', 50278): What's the weather today?\n",
      "Server response: I'm a simple server,I don't know the weather.\n",
      "Connection with ('127.0.0.1', 50278) closed.\n"
     ]
    }
   ],
   "source": [
    "import socket\n",
    "import threading\n",
    "\n",
    "def handle_client(client, addr):\n",
    "    while True:\n",
    "        message = client.recv(1024).decode('utf-8')\n",
    "        if message.lower() == 'bye':\n",
    "            break\n",
    "        print(f\"Received from {addr}: {message}\")\n",
    "        response = input(\"Server response: \")\n",
    "        client.send(response.encode('utf-8'))\n",
    "    print(f\"Connection with {addr} closed.\")\n",
    "    client.close()\n",
    "\n",
    "def start_server():\n",
    "    server = socket.socket(socket.AF_INET, socket.SOCK_STREAM)\n",
    "    server.bind(('0.0.0.0', 5555))\n",
    "    server.listen(5)\n",
    "    print(\"Server listening on port 5555...\")\n",
    "\n",
    "    while True:\n",
    "        client, addr = server.accept()\n",
    "        print(f\"Accepted connection from {addr}\")\n",
    "        threading.Thread(target=handle_client, args=(client, addr)).start()\n",
    "\n",
    "if __name__ == \"__main__\":\n",
    "    start_server()"
   ]
  }
 ],
 "metadata": {
  "kernelspec": {
   "display_name": "Python 3 (ipykernel)",
   "language": "python",
   "name": "python3"
  },
  "language_info": {
   "codemirror_mode": {
    "name": "ipython",
    "version": 3
   },
   "file_extension": ".py",
   "mimetype": "text/x-python",
   "name": "python",
   "nbconvert_exporter": "python",
   "pygments_lexer": "ipython3",
   "version": "3.11.4"
  }
 },
 "nbformat": 4,
 "nbformat_minor": 5
}
